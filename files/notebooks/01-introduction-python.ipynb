{
 "cells": [
  {
   "cell_type": "markdown",
   "id": "2722a5ac",
   "metadata": {},
   "source": [
    "# Introduction to python\n",
    "* Assigning variables, data types, operators, and functions"
   ]
  },
  {
   "cell_type": "markdown",
   "id": "f62bc3c4",
   "metadata": {},
   "source": [
    "## Assigning variables"
   ]
  },
  {
   "cell_type": "code",
   "execution_count": 1,
   "id": "852960b7",
   "metadata": {},
   "outputs": [],
   "source": [
    "name = 'Jantje'\n",
    "age = 42\n",
    "weight = 78.5"
   ]
  },
  {
   "cell_type": "code",
   "execution_count": 2,
   "id": "ddc7f856",
   "metadata": {},
   "outputs": [
    {
     "data": {
      "text/plain": [
       "42"
      ]
     },
     "execution_count": 2,
     "metadata": {},
     "output_type": "execute_result"
    }
   ],
   "source": [
    "age"
   ]
  },
  {
   "cell_type": "code",
   "execution_count": 3,
   "id": "0db9fa36",
   "metadata": {},
   "outputs": [
    {
     "data": {
      "text/plain": [
       "int"
      ]
     },
     "execution_count": 3,
     "metadata": {},
     "output_type": "execute_result"
    }
   ],
   "source": [
    "type(age)"
   ]
  },
  {
   "cell_type": "code",
   "execution_count": 4,
   "id": "ede60e1c",
   "metadata": {},
   "outputs": [
    {
     "data": {
      "text/plain": [
       "str"
      ]
     },
     "execution_count": 4,
     "metadata": {},
     "output_type": "execute_result"
    }
   ],
   "source": [
    "type(name)"
   ]
  },
  {
   "cell_type": "code",
   "execution_count": 5,
   "id": "ac90997d",
   "metadata": {},
   "outputs": [
    {
     "data": {
      "text/plain": [
       "float"
      ]
     },
     "execution_count": 5,
     "metadata": {},
     "output_type": "execute_result"
    }
   ],
   "source": [
    "type(weight)"
   ]
  },
  {
   "cell_type": "markdown",
   "id": "25d458ee",
   "metadata": {},
   "source": [
    "## Operators"
   ]
  },
  {
   "cell_type": "code",
   "execution_count": 6,
   "id": "b035dea4",
   "metadata": {},
   "outputs": [
    {
     "data": {
      "text/plain": [
       "4"
      ]
     },
     "execution_count": 6,
     "metadata": {},
     "output_type": "execute_result"
    }
   ],
   "source": [
    "2 + 2"
   ]
  },
  {
   "cell_type": "code",
   "execution_count": 7,
   "id": "9658eb96",
   "metadata": {},
   "outputs": [
    {
     "data": {
      "text/plain": [
       "42"
      ]
     },
     "execution_count": 7,
     "metadata": {},
     "output_type": "execute_result"
    }
   ],
   "source": [
    "6 * 7"
   ]
  },
  {
   "cell_type": "code",
   "execution_count": 8,
   "id": "70f70329",
   "metadata": {},
   "outputs": [
    {
     "data": {
      "text/plain": [
       "65536"
      ]
     },
     "execution_count": 8,
     "metadata": {},
     "output_type": "execute_result"
    }
   ],
   "source": [
    "2 ** 16 "
   ]
  },
  {
   "cell_type": "markdown",
   "id": "9d4958a9",
   "metadata": {},
   "source": [
    "### Logic operators and statements of identity"
   ]
  },
  {
   "cell_type": "code",
   "execution_count": 9,
   "id": "bc503988",
   "metadata": {},
   "outputs": [
    {
     "data": {
      "text/plain": [
       "False"
      ]
     },
     "execution_count": 9,
     "metadata": {},
     "output_type": "execute_result"
    }
   ],
   "source": [
    "3 > 4"
   ]
  },
  {
   "cell_type": "code",
   "execution_count": 12,
   "id": "092fda75",
   "metadata": {},
   "outputs": [
    {
     "data": {
      "text/plain": [
       "False"
      ]
     },
     "execution_count": 12,
     "metadata": {},
     "output_type": "execute_result"
    }
   ],
   "source": [
    "5 > 3 and 2 > 3"
   ]
  },
  {
   "cell_type": "code",
   "execution_count": 13,
   "id": "03689578",
   "metadata": {},
   "outputs": [
    {
     "data": {
      "text/plain": [
       "True"
      ]
     },
     "execution_count": 13,
     "metadata": {},
     "output_type": "execute_result"
    }
   ],
   "source": [
    "True or False"
   ]
  },
  {
   "cell_type": "code",
   "execution_count": 15,
   "id": "73b8136d",
   "metadata": {},
   "outputs": [
    {
     "data": {
      "text/plain": [
       "False"
      ]
     },
     "execution_count": 15,
     "metadata": {},
     "output_type": "execute_result"
    }
   ],
   "source": [
    "# This works, but it is not according to style\n",
    "3>4"
   ]
  },
  {
   "cell_type": "markdown",
   "id": "3cf0445c",
   "metadata": {},
   "source": [
    "## Sequences: Lists and Tuples"
   ]
  },
  {
   "cell_type": "markdown",
   "id": "dc79120d",
   "metadata": {},
   "source": [
    "### Lists"
   ]
  },
  {
   "cell_type": "code",
   "execution_count": 16,
   "id": "1a31c1aa",
   "metadata": {},
   "outputs": [],
   "source": [
    "numbers = [1, 2, 3]"
   ]
  },
  {
   "cell_type": "code",
   "execution_count": 17,
   "id": "6a6cf636",
   "metadata": {},
   "outputs": [
    {
     "data": {
      "text/plain": [
       "[1, 2, 3]"
      ]
     },
     "execution_count": 17,
     "metadata": {},
     "output_type": "execute_result"
    }
   ],
   "source": [
    "numbers"
   ]
  },
  {
   "cell_type": "code",
   "execution_count": 19,
   "id": "7ad57364",
   "metadata": {},
   "outputs": [
    {
     "ename": "IndexError",
     "evalue": "list index out of range",
     "output_type": "error",
     "traceback": [
      "\u001b[0;31m---------------------------------------------------------------------------\u001b[0m",
      "\u001b[0;31mIndexError\u001b[0m                                Traceback (most recent call last)",
      "\u001b[0;32m<ipython-input-19-a211ca56b224>\u001b[0m in \u001b[0;36m<module>\u001b[0;34m\u001b[0m\n\u001b[0;32m----> 1\u001b[0;31m \u001b[0mnumbers\u001b[0m\u001b[0;34m[\u001b[0m\u001b[0;36m3\u001b[0m\u001b[0;34m]\u001b[0m\u001b[0;34m\u001b[0m\u001b[0;34m\u001b[0m\u001b[0m\n\u001b[0m",
      "\u001b[0;31mIndexError\u001b[0m: list index out of range"
     ]
    }
   ],
   "source": [
    "numbers[3]"
   ]
  },
  {
   "cell_type": "code",
   "execution_count": 22,
   "id": "7cae57f9",
   "metadata": {},
   "outputs": [
    {
     "name": "stdout",
     "output_type": "stream",
     "text": [
      "This is printed\n",
      "1\n",
      "This is printed\n",
      "2\n",
      "This is printed\n",
      "3\n",
      "This is the end\n"
     ]
    }
   ],
   "source": [
    "# A for loop accesses elements in a list one at a time\n",
    "for number in numbers:\n",
    "    print('This is printed')\n",
    "    print(number)\n",
    "print('This is the end')"
   ]
  },
  {
   "cell_type": "code",
   "execution_count": 23,
   "id": "d1d0ee3c",
   "metadata": {},
   "outputs": [],
   "source": [
    "# Add stuff to lists\n",
    "numbers.append(4)"
   ]
  },
  {
   "cell_type": "code",
   "execution_count": 24,
   "id": "2c7f6b8b",
   "metadata": {},
   "outputs": [
    {
     "data": {
      "text/plain": [
       "[1, 2, 3, 4]"
      ]
     },
     "execution_count": 24,
     "metadata": {},
     "output_type": "execute_result"
    }
   ],
   "source": [
    "numbers"
   ]
  },
  {
   "cell_type": "code",
   "execution_count": 25,
   "id": "7f50c402",
   "metadata": {},
   "outputs": [
    {
     "data": {
      "text/plain": [
       "[1, 2, 3, 4]"
      ]
     },
     "execution_count": 25,
     "metadata": {},
     "output_type": "execute_result"
    }
   ],
   "source": [
    "numbers # Hit Shift + Tab for help"
   ]
  },
  {
   "cell_type": "code",
   "execution_count": 26,
   "id": "25585a4f",
   "metadata": {},
   "outputs": [
    {
     "data": {
      "text/plain": [
       "\u001b[0;31mType:\u001b[0m        list\n",
       "\u001b[0;31mString form:\u001b[0m [1, 2, 3, 4]\n",
       "\u001b[0;31mLength:\u001b[0m      4\n",
       "\u001b[0;31mDocstring:\u001b[0m  \n",
       "Built-in mutable sequence.\n",
       "\n",
       "If no argument is given, the constructor creates a new empty list.\n",
       "The argument must be an iterable if specified.\n"
      ]
     },
     "metadata": {},
     "output_type": "display_data"
    }
   ],
   "source": [
    "numbers?"
   ]
  },
  {
   "cell_type": "markdown",
   "id": "d0ecc478",
   "metadata": {},
   "source": [
    "### Tuples\n",
    "Tuple is like a list, but they cannot be changed once they are created (they ar 'immutable')."
   ]
  },
  {
   "cell_type": "code",
   "execution_count": 27,
   "id": "7ca6cf52",
   "metadata": {},
   "outputs": [],
   "source": [
    "numbers = [1, 2, 3]"
   ]
  },
  {
   "cell_type": "code",
   "execution_count": 28,
   "id": "1e32c813",
   "metadata": {},
   "outputs": [],
   "source": [
    "a_tuple = (1, 2, 3)"
   ]
  },
  {
   "cell_type": "code",
   "execution_count": 29,
   "id": "559506f8",
   "metadata": {},
   "outputs": [],
   "source": [
    "another_tuple = ('blue', 'green', 'red')"
   ]
  },
  {
   "cell_type": "code",
   "execution_count": 30,
   "id": "01222834",
   "metadata": {},
   "outputs": [],
   "source": [
    "a_list = [1, 'blue', 34.5]"
   ]
  },
  {
   "cell_type": "code",
   "execution_count": 31,
   "id": "f522a683",
   "metadata": {},
   "outputs": [
    {
     "data": {
      "text/plain": [
       "[1, 'blue', 34.5]"
      ]
     },
     "execution_count": 31,
     "metadata": {},
     "output_type": "execute_result"
    }
   ],
   "source": [
    "a_list"
   ]
  },
  {
   "cell_type": "code",
   "execution_count": 32,
   "id": "823c7e72",
   "metadata": {},
   "outputs": [
    {
     "data": {
      "text/plain": [
       "list"
      ]
     },
     "execution_count": 32,
     "metadata": {},
     "output_type": "execute_result"
    }
   ],
   "source": [
    "type(a_list)"
   ]
  },
  {
   "cell_type": "code",
   "execution_count": 33,
   "id": "5d3fcfdc",
   "metadata": {},
   "outputs": [
    {
     "data": {
      "text/plain": [
       "int"
      ]
     },
     "execution_count": 33,
     "metadata": {},
     "output_type": "execute_result"
    }
   ],
   "source": [
    "type(a_list[0])"
   ]
  },
  {
   "cell_type": "code",
   "execution_count": 34,
   "id": "43a97a86",
   "metadata": {},
   "outputs": [
    {
     "data": {
      "text/plain": [
       "str"
      ]
     },
     "execution_count": 34,
     "metadata": {},
     "output_type": "execute_result"
    }
   ],
   "source": [
    "type(a_list[1])"
   ]
  },
  {
   "cell_type": "markdown",
   "id": "208fdf0c",
   "metadata": {},
   "source": [
    "## Exercise: Tuples vs. Lists\n",
    "1. What happens when you execute a_list[1] = 5?\n",
    "2. What happens when you execute a_tuple[2] = 5?\n",
    "3. What does type(a_tuple) tell you about a_tuple?}"
   ]
  },
  {
   "cell_type": "code",
   "execution_count": 41,
   "id": "e2d86653",
   "metadata": {},
   "outputs": [
    {
     "data": {
      "text/plain": [
       "True"
      ]
     },
     "execution_count": 41,
     "metadata": {},
     "output_type": "execute_result"
    }
   ],
   "source": [
    "a_list[1] == 5 # == is the equals operator"
   ]
  },
  {
   "cell_type": "code",
   "execution_count": 37,
   "id": "4a5966f1",
   "metadata": {},
   "outputs": [],
   "source": [
    "a_list[1] = 5 # = assignment operator"
   ]
  },
  {
   "cell_type": "code",
   "execution_count": 39,
   "id": "12dac5bc",
   "metadata": {},
   "outputs": [
    {
     "data": {
      "text/plain": [
       "[1, 5, 34.5]"
      ]
     },
     "execution_count": 39,
     "metadata": {},
     "output_type": "execute_result"
    }
   ],
   "source": [
    "a_list"
   ]
  },
  {
   "cell_type": "code",
   "execution_count": 43,
   "id": "20d51e43",
   "metadata": {},
   "outputs": [
    {
     "ename": "TypeError",
     "evalue": "'tuple' object does not support item assignment",
     "output_type": "error",
     "traceback": [
      "\u001b[0;31m---------------------------------------------------------------------------\u001b[0m",
      "\u001b[0;31mTypeError\u001b[0m                                 Traceback (most recent call last)",
      "\u001b[0;32m<ipython-input-43-71ec42f900ac>\u001b[0m in \u001b[0;36m<module>\u001b[0;34m\u001b[0m\n\u001b[0;32m----> 1\u001b[0;31m \u001b[0ma_tuple\u001b[0m\u001b[0;34m[\u001b[0m\u001b[0;36m2\u001b[0m\u001b[0;34m]\u001b[0m \u001b[0;34m=\u001b[0m \u001b[0;36m5\u001b[0m\u001b[0;34m\u001b[0m\u001b[0;34m\u001b[0m\u001b[0m\n\u001b[0m",
      "\u001b[0;31mTypeError\u001b[0m: 'tuple' object does not support item assignment"
     ]
    }
   ],
   "source": [
    "a_tuple[2] = 5"
   ]
  },
  {
   "cell_type": "markdown",
   "id": "b63dbb88",
   "metadata": {},
   "source": [
    "This is some python code\n",
    "```python\n",
    "type(a_tuple)\n",
    "```"
   ]
  },
  {
   "cell_type": "code",
   "execution_count": 44,
   "id": "23b8e530",
   "metadata": {},
   "outputs": [
    {
     "data": {
      "text/plain": [
       "tuple"
      ]
     },
     "execution_count": 44,
     "metadata": {},
     "output_type": "execute_result"
    }
   ],
   "source": [
    "type(a_tuple)"
   ]
  },
  {
   "cell_type": "markdown",
   "id": "16e35933",
   "metadata": {},
   "source": [
    "## Dictionaries\n",
    "A dictionary is a container that holds pairs of objects - keys and values"
   ]
  },
  {
   "cell_type": "code",
   "execution_count": 45,
   "id": "4557acfb",
   "metadata": {},
   "outputs": [],
   "source": [
    "# A mapping of a number ('one') to its rank ('first')\n",
    "translation = {'one': 'first', 'two': 'second'}"
   ]
  },
  {
   "cell_type": "code",
   "execution_count": 46,
   "id": "1ab347e3",
   "metadata": {},
   "outputs": [
    {
     "data": {
      "text/plain": [
       "'first'"
      ]
     },
     "execution_count": 46,
     "metadata": {},
     "output_type": "execute_result"
    }
   ],
   "source": [
    "translation['one']"
   ]
  },
  {
   "cell_type": "code",
   "execution_count": 52,
   "id": "0c04aba2",
   "metadata": {},
   "outputs": [],
   "source": [
    "# Mapping a rank ('first') to its number ('one')\n",
    "rev = {'first': 'one', 'second': 'two'}"
   ]
  },
  {
   "cell_type": "code",
   "execution_count": 53,
   "id": "2f4d2b3d",
   "metadata": {},
   "outputs": [
    {
     "data": {
      "text/plain": [
       "'one'"
      ]
     },
     "execution_count": 53,
     "metadata": {},
     "output_type": "execute_result"
    }
   ],
   "source": [
    "rev['first']"
   ]
  },
  {
   "cell_type": "code",
   "execution_count": 54,
   "id": "4cf7dae6",
   "metadata": {},
   "outputs": [],
   "source": [
    "# Adding values to dictionaries\n",
    "rev['third'] = 'three'"
   ]
  },
  {
   "cell_type": "code",
   "execution_count": 55,
   "id": "d394a73a",
   "metadata": {},
   "outputs": [
    {
     "data": {
      "text/plain": [
       "{'first': 'one', 'second': 'two', 'third': 'three'}"
      ]
     },
     "execution_count": 55,
     "metadata": {},
     "output_type": "execute_result"
    }
   ],
   "source": [
    "rev"
   ]
  },
  {
   "cell_type": "code",
   "execution_count": null,
   "id": "99221ff6",
   "metadata": {},
   "outputs": [],
   "source": [
    "# For loop for a list\n",
    "for number in numbers:\n",
    "    print(number)"
   ]
  },
  {
   "cell_type": "code",
   "execution_count": 57,
   "id": "f6bb2448",
   "metadata": {},
   "outputs": [
    {
     "name": "stdout",
     "output_type": "stream",
     "text": [
      "first -> one\n",
      "second -> two\n",
      "third -> three\n"
     ]
    }
   ],
   "source": [
    "# Using for loops with dictionaries\n",
    "for key, value in rev.items():\n",
    "    print(key, '->', value)"
   ]
  },
  {
   "cell_type": "code",
   "execution_count": 59,
   "id": "6ba0076c",
   "metadata": {},
   "outputs": [
    {
     "name": "stdout",
     "output_type": "stream",
     "text": [
      "first -> one\n",
      "second -> two\n",
      "third -> three\n"
     ]
    }
   ],
   "source": [
    "# Only loop through keys:\n",
    "for key in rev.keys():\n",
    "    print(key, '->', rev[key])"
   ]
  },
  {
   "cell_type": "code",
   "execution_count": 60,
   "id": "c53f1e30",
   "metadata": {},
   "outputs": [],
   "source": [
    "del rev['first']"
   ]
  },
  {
   "cell_type": "code",
   "execution_count": 62,
   "id": "88ba3ff2",
   "metadata": {},
   "outputs": [
    {
     "data": {
      "text/plain": [
       "'two'"
      ]
     },
     "execution_count": 62,
     "metadata": {},
     "output_type": "execute_result"
    }
   ],
   "source": [
    "rev['second']"
   ]
  },
  {
   "cell_type": "code",
   "execution_count": 63,
   "id": "578bff36",
   "metadata": {},
   "outputs": [],
   "source": [
    "answer_mapping = {'M': 1, 'F': 0}"
   ]
  },
  {
   "cell_type": "code",
   "execution_count": 64,
   "id": "f80db927",
   "metadata": {},
   "outputs": [
    {
     "data": {
      "text/plain": [
       "1"
      ]
     },
     "execution_count": 64,
     "metadata": {},
     "output_type": "execute_result"
    }
   ],
   "source": [
    "answer_mapping['M']"
   ]
  },
  {
   "cell_type": "code",
   "execution_count": 65,
   "id": "733b7c17",
   "metadata": {},
   "outputs": [],
   "source": [
    "settings = {'muted': True, 'use_camera': False}"
   ]
  },
  {
   "cell_type": "code",
   "execution_count": 66,
   "id": "4829749b",
   "metadata": {},
   "outputs": [
    {
     "data": {
      "text/plain": [
       "True"
      ]
     },
     "execution_count": 66,
     "metadata": {},
     "output_type": "execute_result"
    }
   ],
   "source": [
    "settings['muted']"
   ]
  },
  {
   "cell_type": "markdown",
   "id": "f02335f1",
   "metadata": {},
   "source": [
    "## Exercise: Changing dictionaries\n",
    "1. First, print the values of the rev dictionary to the screen.\n",
    "2. Reassign the value that corresponds to the key `second` so that it no longer reads “two” but instead 2.\n",
    "3. Print the value of rev to the screen again to see if the value has changed."
   ]
  },
  {
   "cell_type": "code",
   "execution_count": 68,
   "id": "6fc4b561",
   "metadata": {},
   "outputs": [
    {
     "name": "stdout",
     "output_type": "stream",
     "text": [
      "two\n",
      "three\n"
     ]
    }
   ],
   "source": [
    "# Using for loops with dictionaries\n",
    "for key, value in rev.items():\n",
    "    print(value)"
   ]
  },
  {
   "cell_type": "code",
   "execution_count": 69,
   "id": "0bd29839",
   "metadata": {},
   "outputs": [
    {
     "name": "stdout",
     "output_type": "stream",
     "text": [
      "two\n",
      "three\n"
     ]
    }
   ],
   "source": [
    "for value in rev.values():\n",
    "    print(value)"
   ]
  },
  {
   "cell_type": "code",
   "execution_count": 71,
   "id": "9765ca3a",
   "metadata": {},
   "outputs": [],
   "source": [
    "rev['second'] = 2 # Assign the value 2 to the key 'second' in rev dict"
   ]
  },
  {
   "cell_type": "code",
   "execution_count": 72,
   "id": "31037c58",
   "metadata": {},
   "outputs": [
    {
     "name": "stdout",
     "output_type": "stream",
     "text": [
      "2\n",
      "three\n"
     ]
    }
   ],
   "source": [
    "for value in rev.values():\n",
    "    print(value)"
   ]
  },
  {
   "cell_type": "markdown",
   "id": "d6195d4b",
   "metadata": {},
   "source": [
    "## Functions"
   ]
  },
  {
   "cell_type": "code",
   "execution_count": 73,
   "id": "07ceac8f",
   "metadata": {},
   "outputs": [],
   "source": [
    "def add(a, b):\n",
    "    result = a + b\n",
    "    return result"
   ]
  },
  {
   "cell_type": "code",
   "execution_count": 74,
   "id": "17ccbd5e",
   "metadata": {},
   "outputs": [
    {
     "data": {
      "text/plain": [
       "function"
      ]
     },
     "execution_count": 74,
     "metadata": {},
     "output_type": "execute_result"
    }
   ],
   "source": [
    "type(add)"
   ]
  },
  {
   "cell_type": "code",
   "execution_count": 79,
   "id": "a141cb16",
   "metadata": {},
   "outputs": [
    {
     "data": {
      "text/plain": [
       "42"
      ]
     },
     "execution_count": 79,
     "metadata": {},
     "output_type": "execute_result"
    }
   ],
   "source": [
    "add(20, 22)"
   ]
  },
  {
   "cell_type": "code",
   "execution_count": 81,
   "id": "0c2b5348",
   "metadata": {},
   "outputs": [
    {
     "name": "stdout",
     "output_type": "stream",
     "text": [
      "42\n"
     ]
    }
   ],
   "source": [
    "print(42)"
   ]
  },
  {
   "cell_type": "code",
   "execution_count": 82,
   "id": "ea89b893",
   "metadata": {},
   "outputs": [],
   "source": [
    "magic_number = add(20, 5)"
   ]
  },
  {
   "cell_type": "code",
   "execution_count": 83,
   "id": "ca76ab84",
   "metadata": {},
   "outputs": [
    {
     "data": {
      "text/plain": [
       "25"
      ]
     },
     "execution_count": 83,
     "metadata": {},
     "output_type": "execute_result"
    }
   ],
   "source": [
    "magic_number"
   ]
  },
  {
   "cell_type": "code",
   "execution_count": 84,
   "id": "16670f2a",
   "metadata": {},
   "outputs": [
    {
     "data": {
      "text/plain": [
       "\u001b[0;31mDocstring:\u001b[0m\n",
       "print(value, ..., sep=' ', end='\\n', file=sys.stdout, flush=False)\n",
       "\n",
       "Prints the values to a stream, or to sys.stdout by default.\n",
       "Optional keyword arguments:\n",
       "file:  a file-like object (stream); defaults to the current sys.stdout.\n",
       "sep:   string inserted between values, default a space.\n",
       "end:   string appended after the last value, default a newline.\n",
       "flush: whether to forcibly flush the stream.\n",
       "\u001b[0;31mType:\u001b[0m      builtin_function_or_method\n"
      ]
     },
     "metadata": {},
     "output_type": "display_data"
    }
   ],
   "source": [
    "print?"
   ]
  },
  {
   "cell_type": "code",
   "execution_count": 85,
   "id": "471e54f0",
   "metadata": {},
   "outputs": [
    {
     "name": "stdout",
     "output_type": "stream",
     "text": [
      "2\n"
     ]
    }
   ],
   "source": [
    "print(2)"
   ]
  },
  {
   "cell_type": "code",
   "execution_count": 86,
   "id": "91ce75c8",
   "metadata": {},
   "outputs": [],
   "source": [
    "a_list = [1, 2, 3]\n",
    "a_list.append(5)"
   ]
  },
  {
   "cell_type": "code",
   "execution_count": 87,
   "id": "3bc5f8ac",
   "metadata": {},
   "outputs": [
    {
     "data": {
      "text/plain": [
       "[1, 2, 3, 5]"
      ]
     },
     "execution_count": 87,
     "metadata": {},
     "output_type": "execute_result"
    }
   ],
   "source": [
    "a_list"
   ]
  },
  {
   "cell_type": "code",
   "execution_count": 88,
   "id": "bb0ebc4b",
   "metadata": {},
   "outputs": [],
   "source": [
    "a_list[2] = 'hello'"
   ]
  },
  {
   "cell_type": "code",
   "execution_count": 89,
   "id": "35e669ca",
   "metadata": {},
   "outputs": [
    {
     "data": {
      "text/plain": [
       "[1, 2, 'hello', 5]"
      ]
     },
     "execution_count": 89,
     "metadata": {},
     "output_type": "execute_result"
    }
   ],
   "source": [
    "a_list"
   ]
  },
  {
   "cell_type": "code",
   "execution_count": 90,
   "id": "e76c1af0",
   "metadata": {},
   "outputs": [
    {
     "data": {
      "text/plain": [
       "\u001b[0;31mSignature:\u001b[0m \u001b[0ma_list\u001b[0m\u001b[0;34m.\u001b[0m\u001b[0minsert\u001b[0m\u001b[0;34m(\u001b[0m\u001b[0mindex\u001b[0m\u001b[0;34m,\u001b[0m \u001b[0mobject\u001b[0m\u001b[0;34m,\u001b[0m \u001b[0;34m/\u001b[0m\u001b[0;34m)\u001b[0m\u001b[0;34m\u001b[0m\u001b[0;34m\u001b[0m\u001b[0m\n",
       "\u001b[0;31mDocstring:\u001b[0m Insert object before index.\n",
       "\u001b[0;31mType:\u001b[0m      builtin_function_or_method\n"
      ]
     },
     "metadata": {},
     "output_type": "display_data"
    }
   ],
   "source": [
    "a_list.insert?"
   ]
  },
  {
   "cell_type": "code",
   "execution_count": 91,
   "id": "af33d472",
   "metadata": {},
   "outputs": [],
   "source": [
    "a_list.insert(2, 'inserted')"
   ]
  },
  {
   "cell_type": "code",
   "execution_count": 92,
   "id": "861357e0",
   "metadata": {},
   "outputs": [
    {
     "data": {
      "text/plain": [
       "[1, 2, 'inserted', 'hello', 5]"
      ]
     },
     "execution_count": 92,
     "metadata": {},
     "output_type": "execute_result"
    }
   ],
   "source": [
    "a_list"
   ]
  },
  {
   "cell_type": "code",
   "execution_count": null,
   "id": "6942a472",
   "metadata": {},
   "outputs": [],
   "source": []
  }
 ],
 "metadata": {
  "kernelspec": {
   "display_name": "Python 3",
   "language": "python",
   "name": "python3"
  },
  "language_info": {
   "codemirror_mode": {
    "name": "ipython",
    "version": 3
   },
   "file_extension": ".py",
   "mimetype": "text/x-python",
   "name": "python",
   "nbconvert_exporter": "python",
   "pygments_lexer": "ipython3",
   "version": "3.7.10"
  }
 },
 "nbformat": 4,
 "nbformat_minor": 5
}
