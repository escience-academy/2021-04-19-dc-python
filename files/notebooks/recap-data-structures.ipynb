{
 "cells": [
  {
   "cell_type": "markdown",
   "id": "27ff86f2",
   "metadata": {},
   "source": [
    "#### Exercise 1: when to use tuples, lists, dictionaries\n",
    "For the following data write down what data structure you would use: a tuple, list, or dictionary to represent the data.\n",
    "1. Storing the favourite superpowers of the people in this class when later in our notebook we need to be able to answer: what is `name`'s favourite superpower?\n",
    "2. A point in 2D space (i.e. with x and y coordinate)\n",
    "3. The names of people in this class\n",
    "4. (optional) The age and weight of people in this class, so we can later ask what is `name`'s age and weight?"
   ]
  },
  {
   "cell_type": "code",
   "execution_count": 1,
   "id": "4c56043a",
   "metadata": {},
   "outputs": [],
   "source": [
    "superpowers = ['flying', 'timetravel']"
   ]
  },
  {
   "cell_type": "code",
   "execution_count": 2,
   "id": "b9ae5d03",
   "metadata": {},
   "outputs": [],
   "source": [
    "superpowers = {'sven': 'flying', 'hanno': 'moving-at-great-speed'}"
   ]
  },
  {
   "cell_type": "code",
   "execution_count": 3,
   "id": "e91a3b55",
   "metadata": {},
   "outputs": [
    {
     "data": {
      "text/plain": [
       "'moving-at-great-speed'"
      ]
     },
     "execution_count": 3,
     "metadata": {},
     "output_type": "execute_result"
    }
   ],
   "source": [
    "superpowers['hanno']"
   ]
  },
  {
   "cell_type": "code",
   "execution_count": 4,
   "id": "04302a09",
   "metadata": {},
   "outputs": [],
   "source": [
    "my_house = (123.343, 12.55)\n",
    "my_new_house = (12.87, 12.3)"
   ]
  },
  {
   "cell_type": "code",
   "execution_count": 5,
   "id": "a1a6c597",
   "metadata": {},
   "outputs": [],
   "source": [
    "my_house = {'x': 123.3, 'y': 123.3}"
   ]
  },
  {
   "cell_type": "code",
   "execution_count": 6,
   "id": "6138bf1a",
   "metadata": {},
   "outputs": [
    {
     "data": {
      "text/plain": [
       "123.3"
      ]
     },
     "execution_count": 6,
     "metadata": {},
     "output_type": "execute_result"
    }
   ],
   "source": [
    "my_house['x']"
   ]
  },
  {
   "cell_type": "code",
   "execution_count": 7,
   "id": "94e0b502",
   "metadata": {},
   "outputs": [],
   "source": [
    "names = ['sven', 'hanno']"
   ]
  },
  {
   "cell_type": "code",
   "execution_count": 8,
   "id": "8147aac6",
   "metadata": {},
   "outputs": [],
   "source": [
    "class_data = {'sven': {'age': 27, 'weight': 128}}"
   ]
  },
  {
   "cell_type": "code",
   "execution_count": 9,
   "id": "64d0fa93",
   "metadata": {},
   "outputs": [],
   "source": [
    "import pandas as pd"
   ]
  },
  {
   "cell_type": "code",
   "execution_count": 10,
   "id": "d506815a",
   "metadata": {},
   "outputs": [
    {
     "data": {
      "text/html": [
       "<div>\n",
       "<style scoped>\n",
       "    .dataframe tbody tr th:only-of-type {\n",
       "        vertical-align: middle;\n",
       "    }\n",
       "\n",
       "    .dataframe tbody tr th {\n",
       "        vertical-align: top;\n",
       "    }\n",
       "\n",
       "    .dataframe thead th {\n",
       "        text-align: right;\n",
       "    }\n",
       "</style>\n",
       "<table border=\"1\" class=\"dataframe\">\n",
       "  <thead>\n",
       "    <tr style=\"text-align: right;\">\n",
       "      <th></th>\n",
       "      <th>name</th>\n",
       "      <th>age</th>\n",
       "      <th>weight</th>\n",
       "    </tr>\n",
       "  </thead>\n",
       "  <tbody>\n",
       "    <tr>\n",
       "      <th>0</th>\n",
       "      <td>sven</td>\n",
       "      <td>27</td>\n",
       "      <td>128</td>\n",
       "    </tr>\n",
       "    <tr>\n",
       "      <th>1</th>\n",
       "      <td>hanno</td>\n",
       "      <td>28</td>\n",
       "      <td>178</td>\n",
       "    </tr>\n",
       "  </tbody>\n",
       "</table>\n",
       "</div>"
      ],
      "text/plain": [
       "    name  age  weight\n",
       "0   sven   27     128\n",
       "1  hanno   28     178"
      ]
     },
     "execution_count": 10,
     "metadata": {},
     "output_type": "execute_result"
    }
   ],
   "source": [
    "pd.DataFrame({'name': ['sven', 'hanno'], 'age': [27, 28], 'weight': [128, 178]})"
   ]
  },
  {
   "cell_type": "code",
   "execution_count": 12,
   "id": "e8c2a471",
   "metadata": {},
   "outputs": [],
   "source": [
    "result = class_data['sven']"
   ]
  },
  {
   "cell_type": "code",
   "execution_count": 14,
   "id": "3fd0ce4d",
   "metadata": {},
   "outputs": [
    {
     "data": {
      "text/plain": [
       "27"
      ]
     },
     "execution_count": 14,
     "metadata": {},
     "output_type": "execute_result"
    }
   ],
   "source": [
    "result['age']"
   ]
  },
  {
   "cell_type": "code",
   "execution_count": 15,
   "id": "541d88a5",
   "metadata": {},
   "outputs": [
    {
     "data": {
      "text/plain": [
       "27"
      ]
     },
     "execution_count": 15,
     "metadata": {},
     "output_type": "execute_result"
    }
   ],
   "source": [
    "class_data['sven']['age']"
   ]
  },
  {
   "cell_type": "code",
   "execution_count": null,
   "id": "8e337b46",
   "metadata": {},
   "outputs": [],
   "source": []
  }
 ],
 "metadata": {
  "kernelspec": {
   "display_name": "Python 3",
   "language": "python",
   "name": "python3"
  },
  "language_info": {
   "codemirror_mode": {
    "name": "ipython",
    "version": 3
   },
   "file_extension": ".py",
   "mimetype": "text/x-python",
   "name": "python",
   "nbconvert_exporter": "python",
   "pygments_lexer": "ipython3",
   "version": "3.7.10"
  }
 },
 "nbformat": 4,
 "nbformat_minor": 5
}
