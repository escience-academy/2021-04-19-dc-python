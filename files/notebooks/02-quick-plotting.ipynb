{
 "cells": [
  {
   "cell_type": "markdown",
   "id": "cb1c3cf8",
   "metadata": {},
   "source": [
    "## Quick plotting using pandas"
   ]
  },
  {
   "cell_type": "code",
   "execution_count": 1,
   "id": "779b9b7d",
   "metadata": {},
   "outputs": [],
   "source": [
    "import pandas as pd"
   ]
  },
  {
   "cell_type": "code",
   "execution_count": 2,
   "id": "3138f810",
   "metadata": {},
   "outputs": [],
   "source": [
    "# Read in our data\n",
    "surveys_df = pd.read_csv('../data/raw/surveys.csv')"
   ]
  },
  {
   "cell_type": "code",
   "execution_count": 8,
   "id": "e3033c5a",
   "metadata": {},
   "outputs": [
    {
     "data": {
      "text/plain": [
       "'/Users/svenvanderburg/projects/teaching/dc-python-april/notebooks'"
      ]
     },
     "execution_count": 8,
     "metadata": {},
     "output_type": "execute_result"
    }
   ],
   "source": [
    "# Checking your current working directory\n",
    "import os\n",
    "os.getcwd()"
   ]
  },
  {
   "cell_type": "code",
   "execution_count": 11,
   "id": "e96b3c74",
   "metadata": {},
   "outputs": [],
   "source": [
    "# Get the count for each species\n",
    "species_counts = surveys_df.groupby('species_id')['record_id'].count()"
   ]
  },
  {
   "cell_type": "code",
   "execution_count": 12,
   "id": "49cce6de",
   "metadata": {},
   "outputs": [
    {
     "data": {
      "text/plain": [
       "species_id\n",
       "AB      303\n",
       "AH      437\n",
       "AS        2\n",
       "BA       46\n",
       "CB       50\n",
       "CM       13\n",
       "CQ       16\n",
       "CS        1\n",
       "CT        1\n",
       "CU        1\n",
       "CV        1\n",
       "DM    10596\n",
       "DO     3027\n",
       "DS     2504\n",
       "DX       40\n",
       "NL     1252\n",
       "OL     1006\n",
       "OT     2249\n",
       "OX       12\n",
       "PB     2891\n",
       "PC       39\n",
       "PE     1299\n",
       "PF     1597\n",
       "PG        8\n",
       "PH       32\n",
       "PI        9\n",
       "PL       36\n",
       "PM      899\n",
       "PP     3123\n",
       "PU        5\n",
       "PX        6\n",
       "RF       75\n",
       "RM     2609\n",
       "RO        8\n",
       "RX        2\n",
       "SA       75\n",
       "SC        1\n",
       "SF       43\n",
       "SH      147\n",
       "SO       43\n",
       "SS      248\n",
       "ST        1\n",
       "SU        5\n",
       "UL        4\n",
       "UP        8\n",
       "UR       10\n",
       "US        4\n",
       "ZL        2\n",
       "Name: record_id, dtype: int64"
      ]
     },
     "execution_count": 12,
     "metadata": {},
     "output_type": "execute_result"
    }
   ],
   "source": [
    "species_counts"
   ]
  },
  {
   "cell_type": "code",
   "execution_count": 14,
   "id": "b6f20dcf",
   "metadata": {},
   "outputs": [
    {
     "data": {
      "text/plain": [
       "<AxesSubplot:xlabel='species_id'>"
      ]
     },
     "execution_count": 14,
     "metadata": {},
     "output_type": "execute_result"
    },
    {
     "data": {
      "image/png": "[encoded data removed]",
      "text/plain": [
       "<Figure size 432x288 with 1 Axes>"
      ]
     },
     "metadata": {
      "needs_background": "light"
     },
     "output_type": "display_data"
    }
   ],
   "source": [
    "species_counts.plot(kind='bar')"
   ]
  },
  {
   "cell_type": "code",
   "execution_count": 17,
   "id": "e3a8c5fa",
   "metadata": {},
   "outputs": [],
   "source": [
    "# Count the number animals captured at each site\n",
    "site_count = surveys_df.groupby('plot_id')['record_id'].count()"
   ]
  },
  {
   "cell_type": "code",
   "execution_count": 18,
   "id": "24091e7c",
   "metadata": {},
   "outputs": [
    {
     "data": {
      "text/plain": [
       "<AxesSubplot:xlabel='plot_id'>"
      ]
     },
     "execution_count": 18,
     "metadata": {},
     "output_type": "execute_result"
    },
    {
     "data": {
      "image/png": "[encoded data removed]",
      "text/plain": [
       "<Figure size 432x288 with 1 Axes>"
      ]
     },
     "metadata": {
      "needs_background": "light"
     },
     "output_type": "display_data"
    }
   ],
   "source": [
    "site_count.plot(kind='bar')"
   ]
  },
  {
   "cell_type": "markdown",
   "id": "1dab6d2c",
   "metadata": {},
   "source": [
    "##### 1. Average weight plot\n",
    "Create a bar plot of average weight across all species per site."
   ]
  },
  {
   "cell_type": "code",
   "execution_count": 20,
   "id": "ae98ad48",
   "metadata": {},
   "outputs": [
    {
     "data": {
      "text/plain": [
       "<AxesSubplot:xlabel='plot_id'>"
      ]
     },
     "execution_count": 20,
     "metadata": {},
     "output_type": "execute_result"
    },
    {
     "data": {
      "image/png": "[encoded data removed]",
      "text/plain": [
       "<Figure size 432x288 with 1 Axes>"
      ]
     },
     "metadata": {
      "needs_background": "light"
     },
     "output_type": "display_data"
    }
   ],
   "source": [
    "average_weight = surveys_df.groupby('plot_id')['weight'].mean()\n",
    "average_weight.plot(kind='bar')"
   ]
  },
  {
   "cell_type": "markdown",
   "id": "12a12e2e",
   "metadata": {},
   "source": [
    "##### 2. Sex plot\n",
    "Create a bar plot of total males versus total females for the entire dataset."
   ]
  },
  {
   "cell_type": "code",
   "execution_count": 22,
   "id": "4b5fe52b",
   "metadata": {},
   "outputs": [
    {
     "data": {
      "text/plain": [
       "<AxesSubplot:xlabel='sex'>"
      ]
     },
     "execution_count": 22,
     "metadata": {},
     "output_type": "execute_result"
    },
    {
     "data": {
      "image/png": "[encoded data removed]",
      "text/plain": [
       "<Figure size 432x288 with 1 Axes>"
      ]
     },
     "metadata": {
      "needs_background": "light"
     },
     "output_type": "display_data"
    }
   ],
   "source": [
    "sex_totals = surveys_df.groupby('sex')['record_id'].count()\n",
    "sex_totals.plot(kind='bar')"
   ]
  },
  {
   "cell_type": "markdown",
   "id": "3e5d895f",
   "metadata": {},
   "source": [
    "##### 3. Summary challenge\n",
    "Create a stacked bar plot, with weight on the Y axis, and the stacked variable being sex. The plot should show total weight by sex for each site."
   ]
  },
  {
   "cell_type": "code",
   "execution_count": 31,
   "id": "7729d919",
   "metadata": {},
   "outputs": [
    {
     "data": {
      "text/plain": [
       "plot_id  sex\n",
       "1        F      38253.0\n",
       "         M      59979.0\n",
       "2        F      50144.0\n",
       "         M      57250.0\n",
       "Name: weight, dtype: float64"
      ]
     },
     "execution_count": 31,
     "metadata": {},
     "output_type": "execute_result"
    }
   ],
   "source": [
    "total_weights_by_sex_and_site = surveys_df.groupby(['plot_id', 'sex'])['weight'].sum()\n",
    "total_weights_by_sex_and_site.head(4)"
   ]
  },
  {
   "cell_type": "code",
   "execution_count": 37,
   "id": "3b2ebf5f",
   "metadata": {},
   "outputs": [
    {
     "data": {
      "text/html": [
       "<div>\n",
       "<style scoped>\n",
       "    .dataframe tbody tr th:only-of-type {\n",
       "        vertical-align: middle;\n",
       "    }\n",
       "\n",
       "    .dataframe tbody tr th {\n",
       "        vertical-align: top;\n",
       "    }\n",
       "\n",
       "    .dataframe thead th {\n",
       "        text-align: right;\n",
       "    }\n",
       "</style>\n",
       "<table border=\"1\" class=\"dataframe\">\n",
       "  <thead>\n",
       "    <tr style=\"text-align: right;\">\n",
       "      <th>plot_id</th>\n",
       "      <th>1</th>\n",
       "      <th>2</th>\n",
       "      <th>3</th>\n",
       "      <th>4</th>\n",
       "      <th>5</th>\n",
       "      <th>6</th>\n",
       "      <th>7</th>\n",
       "      <th>8</th>\n",
       "      <th>9</th>\n",
       "      <th>10</th>\n",
       "      <th>...</th>\n",
       "      <th>15</th>\n",
       "      <th>16</th>\n",
       "      <th>17</th>\n",
       "      <th>18</th>\n",
       "      <th>19</th>\n",
       "      <th>20</th>\n",
       "      <th>21</th>\n",
       "      <th>22</th>\n",
       "      <th>23</th>\n",
       "      <th>24</th>\n",
       "    </tr>\n",
       "    <tr>\n",
       "      <th>sex</th>\n",
       "      <th></th>\n",
       "      <th></th>\n",
       "      <th></th>\n",
       "      <th></th>\n",
       "      <th></th>\n",
       "      <th></th>\n",
       "      <th></th>\n",
       "      <th></th>\n",
       "      <th></th>\n",
       "      <th></th>\n",
       "      <th></th>\n",
       "      <th></th>\n",
       "      <th></th>\n",
       "      <th></th>\n",
       "      <th></th>\n",
       "      <th></th>\n",
       "      <th></th>\n",
       "      <th></th>\n",
       "      <th></th>\n",
       "      <th></th>\n",
       "      <th></th>\n",
       "    </tr>\n",
       "  </thead>\n",
       "  <tbody>\n",
       "    <tr>\n",
       "      <th>F</th>\n",
       "      <td>38253.0</td>\n",
       "      <td>50144.0</td>\n",
       "      <td>27251.0</td>\n",
       "      <td>39796.0</td>\n",
       "      <td>21143.0</td>\n",
       "      <td>26210.0</td>\n",
       "      <td>6522.0</td>\n",
       "      <td>37274.0</td>\n",
       "      <td>44128.0</td>\n",
       "      <td>2359.0</td>\n",
       "      <td>...</td>\n",
       "      <td>12455.0</td>\n",
       "      <td>5446.0</td>\n",
       "      <td>42106.0</td>\n",
       "      <td>27353.0</td>\n",
       "      <td>11297.0</td>\n",
       "      <td>33206.0</td>\n",
       "      <td>15481.0</td>\n",
       "      <td>34656.0</td>\n",
       "      <td>3352.0</td>\n",
       "      <td>22951.0</td>\n",
       "    </tr>\n",
       "    <tr>\n",
       "      <th>M</th>\n",
       "      <td>59979.0</td>\n",
       "      <td>57250.0</td>\n",
       "      <td>28253.0</td>\n",
       "      <td>49377.0</td>\n",
       "      <td>23326.0</td>\n",
       "      <td>27245.0</td>\n",
       "      <td>6422.0</td>\n",
       "      <td>47755.0</td>\n",
       "      <td>48727.0</td>\n",
       "      <td>2776.0</td>\n",
       "      <td>...</td>\n",
       "      <td>11037.0</td>\n",
       "      <td>6310.0</td>\n",
       "      <td>48082.0</td>\n",
       "      <td>26433.0</td>\n",
       "      <td>11514.0</td>\n",
       "      <td>25988.0</td>\n",
       "      <td>9815.0</td>\n",
       "      <td>35363.0</td>\n",
       "      <td>3883.0</td>\n",
       "      <td>18835.0</td>\n",
       "    </tr>\n",
       "  </tbody>\n",
       "</table>\n",
       "<p>2 rows × 24 columns</p>\n",
       "</div>"
      ],
      "text/plain": [
       "plot_id       1        2        3        4        5        6       7   \\\n",
       "sex                                                                     \n",
       "F        38253.0  50144.0  27251.0  39796.0  21143.0  26210.0  6522.0   \n",
       "M        59979.0  57250.0  28253.0  49377.0  23326.0  27245.0  6422.0   \n",
       "\n",
       "plot_id       8        9       10  ...       15      16       17       18  \\\n",
       "sex                                ...                                      \n",
       "F        37274.0  44128.0  2359.0  ...  12455.0  5446.0  42106.0  27353.0   \n",
       "M        47755.0  48727.0  2776.0  ...  11037.0  6310.0  48082.0  26433.0   \n",
       "\n",
       "plot_id       19       20       21       22      23       24  \n",
       "sex                                                           \n",
       "F        11297.0  33206.0  15481.0  34656.0  3352.0  22951.0  \n",
       "M        11514.0  25988.0   9815.0  35363.0  3883.0  18835.0  \n",
       "\n",
       "[2 rows x 24 columns]"
      ]
     },
     "execution_count": 37,
     "metadata": {},
     "output_type": "execute_result"
    }
   ],
   "source": [
    "total_weights_by_sex_and_site.unstack(level=0) # alternative way of unstacking (that we won't use)"
   ]
  },
  {
   "cell_type": "code",
   "execution_count": 38,
   "id": "8175c968",
   "metadata": {},
   "outputs": [
    {
     "data": {
      "text/html": [
       "<div>\n",
       "<style scoped>\n",
       "    .dataframe tbody tr th:only-of-type {\n",
       "        vertical-align: middle;\n",
       "    }\n",
       "\n",
       "    .dataframe tbody tr th {\n",
       "        vertical-align: top;\n",
       "    }\n",
       "\n",
       "    .dataframe thead th {\n",
       "        text-align: right;\n",
       "    }\n",
       "</style>\n",
       "<table border=\"1\" class=\"dataframe\">\n",
       "  <thead>\n",
       "    <tr style=\"text-align: right;\">\n",
       "      <th>sex</th>\n",
       "      <th>F</th>\n",
       "      <th>M</th>\n",
       "    </tr>\n",
       "    <tr>\n",
       "      <th>plot_id</th>\n",
       "      <th></th>\n",
       "      <th></th>\n",
       "    </tr>\n",
       "  </thead>\n",
       "  <tbody>\n",
       "    <tr>\n",
       "      <th>1</th>\n",
       "      <td>38253.0</td>\n",
       "      <td>59979.0</td>\n",
       "    </tr>\n",
       "    <tr>\n",
       "      <th>2</th>\n",
       "      <td>50144.0</td>\n",
       "      <td>57250.0</td>\n",
       "    </tr>\n",
       "    <tr>\n",
       "      <th>3</th>\n",
       "      <td>27251.0</td>\n",
       "      <td>28253.0</td>\n",
       "    </tr>\n",
       "    <tr>\n",
       "      <th>4</th>\n",
       "      <td>39796.0</td>\n",
       "      <td>49377.0</td>\n",
       "    </tr>\n",
       "  </tbody>\n",
       "</table>\n",
       "</div>"
      ],
      "text/plain": [
       "sex            F        M\n",
       "plot_id                  \n",
       "1        38253.0  59979.0\n",
       "2        50144.0  57250.0\n",
       "3        27251.0  28253.0\n",
       "4        39796.0  49377.0"
      ]
     },
     "execution_count": 38,
     "metadata": {},
     "output_type": "execute_result"
    }
   ],
   "source": [
    "unstacked = total_weights_by_sex_and_site.unstack()\n",
    "unstacked.head(4)"
   ]
  },
  {
   "cell_type": "code",
   "execution_count": 34,
   "id": "e20ab4df",
   "metadata": {},
   "outputs": [
    {
     "data": {
      "text/plain": [
       "Text(0.5, 0, 'Plot')"
      ]
     },
     "execution_count": 34,
     "metadata": {},
     "output_type": "execute_result"
    },
    {
     "data": {
      "image/png": "[encoded data removed]",
      "text/plain": [
       "<Figure size 432x288 with 1 Axes>"
      ]
     },
     "metadata": {
      "needs_background": "light"
     },
     "output_type": "display_data"
    }
   ],
   "source": [
    "plt = unstacked.plot(kind='bar', stacked=True, title=\"Total weight by site and sex\")\n",
    "plt.set_ylabel(\"Weight\")\n",
    "plt.set_xlabel(\"Plot\")"
   ]
  },
  {
   "cell_type": "code",
   "execution_count": 39,
   "id": "5bbf4165",
   "metadata": {},
   "outputs": [
    {
     "data": {
      "text/plain": [
       "<AxesSubplot:xlabel='plot_id,sex'>"
      ]
     },
     "execution_count": 39,
     "metadata": {},
     "output_type": "execute_result"
    },
    {
     "data": {
      "image/png": "[encoded data removed]",
      "text/plain": [
       "<Figure size 432x288 with 1 Axes>"
      ]
     },
     "metadata": {
      "needs_background": "light"
     },
     "output_type": "display_data"
    }
   ],
   "source": [
    "total_weights_by_sex_and_site.plot(kind='bar', stacked=True)"
   ]
  },
  {
   "cell_type": "code",
   "execution_count": null,
   "id": "8ae88100",
   "metadata": {},
   "outputs": [],
   "source": []
  }
 ],
 "metadata": {
  "kernelspec": {
   "display_name": "Python 3",
   "language": "python",
   "name": "python3"
  },
  "language_info": {
   "codemirror_mode": {
    "name": "ipython",
    "version": 3
   },
   "file_extension": ".py",
   "mimetype": "text/x-python",
   "name": "python",
   "nbconvert_exporter": "python",
   "pygments_lexer": "ipython3",
   "version": "3.7.10"
  }
 },
 "nbformat": 4,
 "nbformat_minor": 5
}
