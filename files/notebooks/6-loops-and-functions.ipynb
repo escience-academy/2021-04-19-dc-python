{
 "cells": [
  {
   "cell_type": "markdown",
   "metadata": {},
   "source": [
    "## Loops and functions"
   ]
  },
  {
   "cell_type": "code",
   "execution_count": 1,
   "metadata": {},
   "outputs": [
    {
     "name": "stdout",
     "output_type": "stream",
     "text": [
      "['tiger', 'lion', 'crocodile', 'hippo']\n"
     ]
    }
   ],
   "source": [
    "animals = ['tiger', 'lion', 'crocodile', 'hippo']\n",
    "print(animals)"
   ]
  },
  {
   "cell_type": "code",
   "execution_count": 2,
   "metadata": {},
   "outputs": [
    {
     "name": "stdout",
     "output_type": "stream",
     "text": [
      "tiger\n",
      "lion\n",
      "crocodile\n",
      "hippo\n"
     ]
    }
   ],
   "source": [
    "for animal in animals:\n",
    "    print(animal)"
   ]
  },
  {
   "cell_type": "code",
   "execution_count": 7,
   "metadata": {},
   "outputs": [
    {
     "name": "stdout",
     "output_type": "stream",
     "text": [
      "hippo\n"
     ]
    }
   ],
   "source": [
    "# Pass means we do nothing\n",
    "for a in animals:\n",
    "    pass\n",
    "print(a)"
   ]
  },
  {
   "cell_type": "markdown",
   "metadata": {},
   "source": [
    "#### Looping exercise \n",
    "1. What happens if we don’t include the pass statement?\n",
    "\n",
    "2. Rewrite the loop so that the animals are separated by commas, not new lines (Hint: You can concatenate strings using a plus sign. For example, `print(string1 + string2)` outputs `string1string2`"
   ]
  },
  {
   "cell_type": "code",
   "execution_count": 9,
   "metadata": {},
   "outputs": [
    {
     "name": "stdout",
     "output_type": "stream",
     "text": [
      "tiger,lion,crocodile,hippo\n"
     ]
    }
   ],
   "source": [
    "animals_str = ''\n",
    "for animal in animals:\n",
    "    animals_str = animals_str + animal + ','\n",
    "print(animals_str[:-1])"
   ]
  },
  {
   "cell_type": "code",
   "execution_count": 11,
   "metadata": {},
   "outputs": [
    {
     "name": "stdout",
     "output_type": "stream",
     "text": [
      "tiger,lion,crocodile,hippo\n"
     ]
    }
   ],
   "source": [
    "animals_str = ','.join(animals)\n",
    "print(animals_str)"
   ]
  },
  {
   "cell_type": "code",
   "execution_count": 12,
   "metadata": {},
   "outputs": [],
   "source": [
    "import os"
   ]
  },
  {
   "cell_type": "code",
   "execution_count": 13,
   "metadata": {},
   "outputs": [],
   "source": [
    "# Create dir for yearly files\n",
    "os.mkdir('../data/output/yearly_files')"
   ]
  },
  {
   "cell_type": "code",
   "execution_count": 15,
   "metadata": {},
   "outputs": [],
   "source": [
    "import pandas as pd\n",
    "# Read in surveys\n",
    "surveys_df =pd.read_csv('../data/raw/surveys.csv')"
   ]
  },
  {
   "cell_type": "code",
   "execution_count": 16,
   "metadata": {},
   "outputs": [],
   "source": [
    "# Select 2002 data\n",
    "surveys2002 = surveys_df[surveys_df['year']==2002]\n",
    "\n",
    "# write it to csv file\n",
    "surveys2002.to_csv('../data/output/yearly_files/surveys2002.csv')"
   ]
  },
  {
   "cell_type": "code",
   "execution_count": 17,
   "metadata": {},
   "outputs": [
    {
     "data": {
      "text/plain": [
       "array([1977, 1978, 1979, 1980, 1981, 1982, 1983, 1984, 1985, 1986, 1987,\n",
       "       1988, 1989, 1990, 1991, 1992, 1993, 1994, 1995, 1996, 1997, 1998,\n",
       "       1999, 2000, 2001, 2002], dtype=int64)"
      ]
     },
     "execution_count": 17,
     "metadata": {},
     "output_type": "execute_result"
    }
   ],
   "source": [
    "years = surveys_df['year'].unique()\n",
    "years"
   ]
  },
  {
   "cell_type": "code",
   "execution_count": 19,
   "metadata": {},
   "outputs": [],
   "source": [
    "for year in years:\n",
    "    # Subset the data\n",
    "    surveys_sub = surveys_df[surveys_df['year']==year]\n",
    "    \n",
    "    # Define the filename\n",
    "    filename = '../data/output/yearly_files/surveys'+str(year)+'.csv'\n",
    "    \n",
    "    # Save the file\n",
    "    surveys_sub.to_csv(filename)"
   ]
  },
  {
   "cell_type": "markdown",
   "metadata": {},
   "source": [
    "## Exercise:\n",
    "1. Modify the for loop to exclude data that contains null values\n",
    "2. Let’s say you only want to look at data from a given multiple of years. How would you modify your loop in order to generate a data file for only every 5th year, starting from 1977? Hint: use pythons built-in range function\n",
    "3. Instead of splitting out the data by years, a colleague wants to do analyses each species separately. How would you write a unique CSV file for each species?"
   ]
  },
  {
   "cell_type": "code",
   "execution_count": 20,
   "metadata": {},
   "outputs": [],
   "source": [
    "# To exclude null values:\n",
    "for year in years:\n",
    "    # Subset the data\n",
    "    surveys_sub = surveys_df[surveys_df['year']==year]\n",
    "    surveys_sub_nona = surveys_sub.dropna()\n",
    "    \n",
    "    # Define the filename\n",
    "    filename = '../data/output/yearly_files/surveys'+str(year)+'.csv'\n",
    "    \n",
    "    # Save the file\n",
    "    surveys_sub_nona.to_csv(filename)"
   ]
  },
  {
   "cell_type": "code",
   "execution_count": 23,
   "metadata": {},
   "outputs": [
    {
     "name": "stdout",
     "output_type": "stream",
     "text": [
      "range(1, 11, 2)\n"
     ]
    }
   ],
   "source": [
    "my_range = range(1, 11, 2)\n",
    "print(my_range)"
   ]
  },
  {
   "cell_type": "code",
   "execution_count": 24,
   "metadata": {},
   "outputs": [
    {
     "name": "stdout",
     "output_type": "stream",
     "text": [
      "1\n",
      "3\n",
      "5\n",
      "7\n",
      "9\n"
     ]
    }
   ],
   "source": [
    "for x in my_range:\n",
    "    print(x)"
   ]
  },
  {
   "cell_type": "code",
   "execution_count": 28,
   "metadata": {},
   "outputs": [
    {
     "name": "stdout",
     "output_type": "stream",
     "text": [
      "1977\n",
      "1982\n",
      "1987\n",
      "1992\n",
      "1997\n",
      "2002\n"
     ]
    }
   ],
   "source": [
    "min_year = surveys_df['year'].min()\n",
    "max_year = surveys_df['year'].max()\n",
    "year_range = range(min_year, max_year+1, 5)\n",
    "\n",
    "for year in year_range:\n",
    "    print(year)"
   ]
  },
  {
   "cell_type": "code",
   "execution_count": null,
   "metadata": {},
   "outputs": [],
   "source": []
  }
 ],
 "metadata": {
  "kernelspec": {
   "display_name": "Python 3",
   "language": "python",
   "name": "python3"
  },
  "language_info": {
   "codemirror_mode": {
    "name": "ipython",
    "version": 3
   },
   "file_extension": ".py",
   "mimetype": "text/x-python",
   "name": "python",
   "nbconvert_exporter": "python",
   "pygments_lexer": "ipython3",
   "version": "3.7.3"
  }
 },
 "nbformat": 4,
 "nbformat_minor": 2
}
